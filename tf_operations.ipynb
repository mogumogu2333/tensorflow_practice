{
 "cells": [
  {
   "cell_type": "code",
   "execution_count": 5,
   "metadata": {},
   "outputs": [],
   "source": [
    "import tensorflow as tf"
   ]
  },
  {
   "cell_type": "markdown",
   "metadata": {},
   "source": [
    "### tf.scatter_nd()\n",
    "\n",
    "方便的用于将sparse_tensor转换为dense_tensor. 指定indices, values, 和dense tensor的shape，就可以把sparse tensor转成dense\n",
    "(https://docs.w3cub.com/tensorflow~python/tf/scatter_nd)[https://docs.w3cub.com/tensorflow~python/tf/scatter_nd]"
   ]
  },
  {
   "cell_type": "code",
   "execution_count": 6,
   "metadata": {},
   "outputs": [
    {
     "output_type": "stream",
     "name": "stdout",
     "text": [
      "[ 0 11  0 10  9  0  0 12]\n"
     ]
    }
   ],
   "source": [
    "def tf_scatter_nd():\n",
    "    indices = tf.constant([[4], [3], [1], [7]])\n",
    "    updates = tf.constant([9, 10, 11, 12])\n",
    "    shape = tf.constant([8])\n",
    "    scatter = tf.scatter_nd(indices, updates, shape)\n",
    "    with tf.Session() as sess:\n",
    "        print(sess.run(scatter))\n",
    "\n",
    "tf_scatter_nd()"
   ]
  },
  {
   "cell_type": "code",
   "execution_count": 7,
   "metadata": {},
   "outputs": [
    {
     "output_type": "stream",
     "name": "stdout",
     "text": [
      "[[9 9 9]\n [9 9 9]]\n"
     ]
    }
   ],
   "source": [
    "def tf_fill():\n",
    "    res = tf.fill([2,3], 9)\n",
    "    with tf.Session() as sess:\n",
    "        print(sess.run(res))\n",
    "\n",
    "tf_fill()"
   ]
  },
  {
   "cell_type": "code",
   "execution_count": null,
   "metadata": {},
   "outputs": [],
   "source": []
  }
 ],
 "metadata": {
  "kernelspec": {
   "display_name": "Python 3",
   "language": "python",
   "name": "python3"
  },
  "language_info": {
   "codemirror_mode": {
    "name": "ipython",
    "version": 3
   },
   "file_extension": ".py",
   "mimetype": "text/x-python",
   "name": "python",
   "nbconvert_exporter": "python",
   "pygments_lexer": "ipython3",
   "version": "3.6.5-final"
  }
 },
 "nbformat": 4,
 "nbformat_minor": 4
}